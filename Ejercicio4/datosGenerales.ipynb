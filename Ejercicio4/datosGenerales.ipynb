{
 "cells": [
  {
   "cell_type": "markdown",
   "metadata": {},
   "source": [
    "## Datos Generales\n"
   ]
  },
  {
   "cell_type": "markdown",
   "metadata": {},
   "source": [
    "el proposito de esta seccion es para hacer calculos generales que pueden servir para los otros incisos"
   ]
  },
  {
   "cell_type": "code",
   "execution_count": 7,
   "metadata": {},
   "outputs": [],
   "source": [
    "import pandas as pd\n",
    "import numpy as np\n",
    "import matplotlib.pyplot as plt\n",
    "from sklearn import datasets   #nuevo\n",
    "import scipy.stats as stats\n",
    "import statsmodels.stats.diagnostic as diag\n",
    "import statsmodels.api as sm\n",
    "from statsmodels.graphics.gofplots import qqplot\n",
    "import seaborn as sns  #nuevo\n",
    "from scipy.stats import pearsonr"
   ]
  },
  {
   "cell_type": "code",
   "execution_count": 8,
   "metadata": {},
   "outputs": [
    {
     "name": "stdout",
     "output_type": "stream",
     "text": [
      "id                              0\n",
      "budget                          0\n",
      "genres                         53\n",
      "homePage                     5807\n",
      "productionCompany             457\n",
      "productionCompanyCountry     1280\n",
      "productionCountry             233\n",
      "revenue                         0\n",
      "runtime                         0\n",
      "video                         486\n",
      "director                       74\n",
      "actors                         80\n",
      "actorsPopularity               87\n",
      "actorsCharacter                47\n",
      "originalTitle                   0\n",
      "title                           0\n",
      "originalLanguage                0\n",
      "popularity                      0\n",
      "releaseDate                     0\n",
      "voteAvg                         0\n",
      "voteCount                       0\n",
      "genresAmount                    0\n",
      "productionCoAmount              0\n",
      "productionCountriesAmount       0\n",
      "actorsAmount                    0\n",
      "castWomenAmount                 0\n",
      "castMenAmount                   0\n",
      "dtype: int64\n"
     ]
    }
   ],
   "source": [
    "# Recuento de valores nulos\n",
    "df = pd.read_csv('../movies.csv', encoding='latin1')\n",
    "print(df.isnull().sum())"
   ]
  },
  {
   "cell_type": "code",
   "execution_count": 6,
   "metadata": {},
   "outputs": [
    {
     "name": "stdout",
     "output_type": "stream",
     "text": [
      "id                           0\n",
      "budget                       0\n",
      "revenue                      0\n",
      "runtime                      0\n",
      "popularity                   0\n",
      "voteAvg                      0\n",
      "voteCount                    0\n",
      "genresAmount                 0\n",
      "productionCoAmount           0\n",
      "productionCountriesAmount    0\n",
      "actorsAmount                 0\n",
      "dtype: int64\n"
     ]
    }
   ],
   "source": [
    "# Filtrar solo las columnas numéricas\n",
    "datos_numericos = df.select_dtypes(include=['number'])\n",
    "\n",
    "# Contar valores negativos en cada columna numérica\n",
    "print((datos_numericos < 0).sum())\n"
   ]
  },
  {
   "cell_type": "code",
   "execution_count": 9,
   "metadata": {},
   "outputs": [
    {
     "name": "stdout",
     "output_type": "stream",
     "text": [
      "       Cantidad de Películas\n",
      "video                       \n",
      "False                   9430\n",
      "NaN                      486\n",
      "True                      84\n"
     ]
    }
   ],
   "source": [
    "import pandas as pd\n",
    "\n",
    "# Cargar los datos\n",
    "df = pd.read_csv('../movies.csv', encoding='latin1')\n",
    "\n",
    "# Contar cuántas películas tienen \"TRUE\", \"FALSE\" y valores nulos en la columna 'video'\n",
    "video_counts = df[\"video\"].value_counts(dropna=False)  # Incluye valores NA en el conteo\n",
    "\n",
    "# Crear una tabla con los valores\n",
    "video_table = pd.DataFrame({\"Cantidad de Películas\": video_counts})\n",
    "\n",
    "# Mostrar la tabla\n",
    "print(video_table)"
   ]
  }
 ],
 "metadata": {
  "kernelspec": {
   "display_name": "Python 3",
   "language": "python",
   "name": "python3"
  },
  "language_info": {
   "codemirror_mode": {
    "name": "ipython",
    "version": 3
   },
   "file_extension": ".py",
   "mimetype": "text/x-python",
   "name": "python",
   "nbconvert_exporter": "python",
   "pygments_lexer": "ipython3",
   "version": "3.13.1"
  }
 },
 "nbformat": 4,
 "nbformat_minor": 2
}
