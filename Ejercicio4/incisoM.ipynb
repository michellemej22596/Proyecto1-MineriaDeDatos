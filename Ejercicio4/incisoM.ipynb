{
 "cells": [
  {
   "cell_type": "markdown",
   "metadata": {},
   "source": [
    "#### Inciso M. ¿En qué meses se han visto los lanzamientos con mejores ingresos? ¿Cuántas películas, en promedio, se han lanzado por mes?"
   ]
  },
  {
   "cell_type": "code",
   "execution_count": 19,
   "metadata": {},
   "outputs": [
    {
     "name": "stdout",
     "output_type": "stream",
     "text": [
      "              Frecuencia\n",
      "releaseMonth            \n",
      "1                     33\n",
      "2                     47\n",
      "3                     75\n",
      "4                     39\n",
      "5                    118\n",
      "6                    150\n",
      "7                    112\n",
      "8                     54\n",
      "9                     56\n",
      "10                    71\n",
      "11                   113\n",
      "12                   132\n"
     ]
    }
   ],
   "source": [
    "import pandas as pd\n",
    "\n",
    "# Cargar los datos\n",
    "df = pd.read_csv('../movies.csv', encoding='latin1')\n",
    "\n",
    "# Convertir la columna de fechas a formato datetime\n",
    "df[\"releaseDate\"] = pd.to_datetime(df[\"releaseDate\"], errors=\"coerce\")\n",
    "\n",
    "# Filtrar las 1000 películas con mayores ingresos\n",
    "top1000ingresos = df.sort_values(by=\"revenue\", ascending=False).head(1000)\n",
    "\n",
    "# Extraer el mes de lanzamiento\n",
    "top1000ingresos[\"releaseMonth\"] = top1000ingresos[\"releaseDate\"].dt.month\n",
    "\n",
    "# Contar la frecuencia de cada mes\n",
    "conteomensual = top1000ingresos[\"releaseMonth\"].value_counts().sort_index()\n",
    "\n",
    "# Crear una tabla con los meses como filas y la frecuencia como valores\n",
    "tabla = pd.DataFrame({\"Frecuencia\": conteomensual})\n",
    "\n",
    "# Mostrar la tabla\n",
    "print(tabla)"
   ]
  },
  {
   "cell_type": "code",
   "execution_count": 18,
   "metadata": {},
   "outputs": [
    {
     "name": "stdout",
     "output_type": "stream",
     "text": [
      "              Frecuencia\n",
      "releaseMonth            \n",
      "1                    652\n",
      "2                    706\n",
      "3                    815\n",
      "4                    696\n",
      "5                    698\n",
      "6                    819\n",
      "7                    812\n",
      "8                    913\n",
      "9                   1079\n",
      "10                  1068\n",
      "11                   807\n",
      "12                   935\n",
      "En promedio, se han lanzado 833.33 películas por mes.\n"
     ]
    }
   ],
   "source": [
    "# Convertir la columna de fechas a formato datetime\n",
    "df[\"releaseDate\"] = pd.to_datetime(df[\"releaseDate\"], errors=\"coerce\")\n",
    "\n",
    "# Extraer el mes de lanzamiento\n",
    "df[\"releaseMonth\"] = df[\"releaseDate\"].dt.month\n",
    "\n",
    "# Contar la frecuencia de cada mes\n",
    "fmes = df[\"releaseMonth\"].value_counts().sort_index()\n",
    "\n",
    "# Crear una tabla con los meses como filas y la frecuencia como valores\n",
    "peliculapormes = pd.DataFrame({\"Frecuencia\": fmes})\n",
    "\n",
    "# Mostrar la tabla\n",
    "print(peliculapormes)\n",
    "\n",
    "# Calcular el promedio de películas lanzadas por mes\n",
    "promedio = monthly_counts.mean()\n",
    "\n",
    "# Mostrar el resultado\n",
    "print(f\"En promedio, se han lanzado {promedio:.2f} películas por mes.\")\n"
   ]
  }
 ],
 "metadata": {
  "kernelspec": {
   "display_name": "Python 3",
   "language": "python",
   "name": "python3"
  },
  "language_info": {
   "codemirror_mode": {
    "name": "ipython",
    "version": 3
   },
   "file_extension": ".py",
   "mimetype": "text/x-python",
   "name": "python",
   "nbconvert_exporter": "python",
   "pygments_lexer": "ipython3",
   "version": "3.13.1"
  }
 },
 "nbformat": 4,
 "nbformat_minor": 2
}
