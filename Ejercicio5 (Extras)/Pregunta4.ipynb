{
 "cells": [
  {
   "cell_type": "markdown",
   "metadata": {},
   "source": [
    "#### Pregunta Extra 4. ¿Qué combinación de géneros tiende a ser más exitosa en términos de ingresos?\n"
   ]
  },
  {
   "cell_type": "code",
   "execution_count": 2,
   "metadata": {},
   "outputs": [
    {
     "name": "stdout",
     "output_type": "stream",
     "text": [
      "                                  Combination of Genres  Average Revenue\n",
      "0                                Family|Fantasy|Romance     1.263521e+09\n",
      "1       Family|Adventure|Animation|Comedy|Fantasy|Drama     1.073395e+09\n",
      "2              Action|Animation|Comedy|Family|Adventure     1.031553e+09\n",
      "3                        Family|Adventure|Drama|Fantasy     9.665506e+08\n",
      "4             Animation|Family|Comedy|Fantasy|Adventure     9.287608e+08\n",
      "...                                                 ...              ...\n",
      "2340                     Action|Adventure|Comedy|Horror     0.000000e+00\n",
      "2341     Action|Adventure|Comedy|Horror|Science Fiction     0.000000e+00\n",
      "2342  Action|Adventure|Comedy|Horror|Science Fiction...     0.000000e+00\n",
      "2343                    Action|Adventure|Comedy|Romance     0.000000e+00\n",
      "2344                    Thriller|Animation|Action|Drama     0.000000e+00\n",
      "\n",
      "[2345 rows x 2 columns]\n"
     ]
    }
   ],
   "source": [
    "import pandas as pd\n",
    "\n",
    "# Cargar los datos\n",
    "df = pd.read_csv('../movies.csv', encoding='latin1')\n",
    "\n",
    "# Convertir ingresos (revenue) a numérico\n",
    "df[\"revenue\"] = pd.to_numeric(df[\"revenue\"], errors=\"coerce\")\n",
    "\n",
    "# Filtrar las combinaciones de géneros y calcular el ingreso promedio para cada combinación\n",
    "ingresosporgenero = df.groupby(\"genres\")[\"revenue\"].mean().sort_values(ascending=False)\n",
    "\n",
    "# Crear una tabla con las combinaciones de géneros más exitosas\n",
    "ingresosporgenerotabla = pd.DataFrame(ingresosporgenero).reset_index()\n",
    "ingresosporgenerotabla.columns = [\"Combination of Genres\", \"Average Revenue\"]\n",
    "\n",
    "# Mostrar las combinaciones de géneros más exitosas\n",
    "print(ingresosporgenerotabla)\n"
   ]
  },
  {
   "cell_type": "code",
   "execution_count": null,
   "metadata": {},
   "outputs": [],
   "source": []
  }
 ],
 "metadata": {
  "kernelspec": {
   "display_name": "Python 3",
   "language": "python",
   "name": "python3"
  },
  "language_info": {
   "codemirror_mode": {
    "name": "ipython",
    "version": 3
   },
   "file_extension": ".py",
   "mimetype": "text/x-python",
   "name": "python",
   "nbconvert_exporter": "python",
   "pygments_lexer": "ipython3",
   "version": "3.13.1"
  }
 },
 "nbformat": 4,
 "nbformat_minor": 2
}
